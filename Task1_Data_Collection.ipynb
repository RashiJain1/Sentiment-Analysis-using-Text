{
 "cells": [
  {
   "cell_type": "markdown",
   "metadata": {},
   "source": [
    "**Task 1: Data Collection**"
   ]
  },
  {
   "cell_type": "markdown",
   "metadata": {},
   "source": [
    "Import the required packages"
   ]
  },
  {
   "cell_type": "code",
   "execution_count": 1,
   "metadata": {},
   "outputs": [],
   "source": [
    "import urllib\n",
    "import requests\n",
    "import bs4\n",
    "from bs4 import BeautifulSoup\n",
    "import pandas as pd\n",
    "import re"
   ]
  },
  {
   "cell_type": "markdown",
   "metadata": {},
   "source": [
    "We are using constant number of URLs without loop because, our reviews requirment is constant (200+) and there is variation in the \n",
    "number of pages for each product. Further, we didn't pick the rating stars because, we are not going to use it for the analysis in task2. \n",
    "We will be using hint no.1 in the question, namely to use LTM"
   ]
  },
  {
   "cell_type": "code",
   "execution_count": 2,
   "metadata": {},
   "outputs": [],
   "source": [
    "def parse(url):\n",
    "    html = requests.get(url)\n",
    "    soup = BeautifulSoup(html.content, 'html.parser', from_encoding=\"utf-8\")\n",
    "    df = pd.DataFrame(columns=[\"Review\",\"Review By\",\"Review Date\"])\n",
    "    for each in soup.find_all(class_= \"readReviewBox\" ):\n",
    "        try: \n",
    "            Review = each.find('div', {'class':\"contentspace\"}).text.replace('\\n', '')\n",
    "        except:\n",
    "            Review = 'None'\n",
    "        try:\n",
    "            ReviewBy = each.find('div', {'class':\"name\" }).text.replace('\\n', '')\n",
    "        except:\n",
    "            ReviewBy = 'None'\n",
    "        try:\n",
    "            ReviewDt = each.find('div', {'class':\"date\" }).text.replace('\\n', '')\n",
    "        except:\n",
    "            ReviewDt = 'None'\n",
    "        df = df.append({'Review':Review, 'Review By':ReviewBy, 'Review Date':ReviewDt}, ignore_index=True)\n",
    "    return df"
   ]
  },
  {
   "cell_type": "markdown",
   "metadata": {},
   "source": [
    "Identify URLs for all the three products"
   ]
  },
  {
   "cell_type": "code",
   "execution_count": 3,
   "metadata": {},
   "outputs": [],
   "source": [
    "# JEEP COMPASS\n",
    "url_jeep_page_1 = \"https://www.cardekho.com/jeep/compass/user-reviews/\"\n",
    "url_jeep_page_2 = \"https://www.cardekho.com/jeep/compass/user-reviews/2\"\n",
    "url_jeep_page_3 = \"https://www.cardekho.com/jeep/compass/user-reviews/3\"\n",
    "url_jeep_page_4 = \"https://www.cardekho.com/jeep/compass/user-reviews/4\"\n",
    "url_jeep_page_5 = \"https://www.cardekho.com/jeep/compass/user-reviews/5\"\n",
    "url_jeep_page_6 = \"https://www.cardekho.com/jeep/compass/user-reviews/6\"\n",
    "\n",
    "# KIA SELTOS\n",
    "url_kia_page_1=\"https://www.cardekho.com/kia/seltos/user-reviews\"\n",
    "url_kia_page_2=\"https://www.cardekho.com/kia/seltos/user-reviews/2\"\n",
    "url_kia_page_3=\"https://www.cardekho.com/kia/seltos/user-reviews/3\"\n",
    "url_kia_page_4=\"https://www.cardekho.com/kia/seltos/user-reviews/4\"\n",
    "url_kia_page_5=\"https://www.cardekho.com/kia/seltos/user-reviews/5\"\n",
    "url_kia_page_6=\"https://www.cardekho.com/kia/seltos/user-reviews/6\"\n",
    "url_kia_page_7=\"https://www.cardekho.com/kia/seltos/user-reviews/7\"\n",
    "url_kia_page_8=\"https://www.cardekho.com/kia/seltos/user-reviews/8\"\n",
    "\n",
    "#MG HECTOR\n",
    "url_mg_hector_page_1 = \"https://www.cardekho.com/mg/hector/user-reviews\"\n",
    "url_mg_hector_page_2 = \"https://www.cardekho.com/mg/hector/user-reviews/2\"\n",
    "url_mg_hector_page_3 = \"https://www.cardekho.com/mg/hector/user-reviews/3\"\n",
    "url_mg_hector_page_4 = \"https://www.cardekho.com/mg/hector/user-reviews/4\"\n",
    "url_mg_hector_page_5 = \"https://www.cardekho.com/mg/hector/user-reviews/5\"\n",
    "url_mg_hector_page_6 = \"https://www.cardekho.com/mg/hector/user-reviews/6\"\n",
    "url_mg_hector_page_7 = \"https://www.cardekho.com/mg/hector/user-reviews/7\"\n",
    "url_mg_hector_page_8 = \"https://www.cardekho.com/mg/hector/user-reviews/8\""
   ]
  },
  {
   "cell_type": "code",
   "execution_count": 4,
   "metadata": {},
   "outputs": [],
   "source": [
    "#Prepare DF with Jeep reviews\n",
    "df1 = pd.DataFrame(parse(url_jeep_page_1)) \n",
    "df2 = pd.DataFrame(parse(url_jeep_page_2))\n",
    "df3 = pd.DataFrame(parse(url_jeep_page_3))\n",
    "df4 = pd.DataFrame(parse(url_jeep_page_4))\n",
    "df5 = pd.DataFrame(parse(url_jeep_page_5))\n",
    "df6 = pd.DataFrame(parse(url_jeep_page_6))\n",
    "\n",
    "df = df1.append([df2,df3,df4,df5,df6])\n",
    "df.to_csv('Reviews_1_Jeep.csv', encoding='utf-8')"
   ]
  },
  {
   "cell_type": "code",
   "execution_count": 5,
   "metadata": {},
   "outputs": [],
   "source": [
    "#Prepare DF with KIA reviews\n",
    "df1 = pd.DataFrame(parse(url_kia_page_1)) \n",
    "df2 = pd.DataFrame(parse(url_kia_page_2))\n",
    "df3 = pd.DataFrame(parse(url_kia_page_3))\n",
    "df4 = pd.DataFrame(parse(url_kia_page_4))\n",
    "df5 = pd.DataFrame(parse(url_kia_page_5))\n",
    "df6 = pd.DataFrame(parse(url_kia_page_6))\n",
    "#df7 = pd.DataFrame(parse(url_kia_page_7))\n",
    "#df8 = pd.DataFrame(parse(url_kia_page_8))\n",
    "\n",
    "df = df1.append([df2,df3,df4,df5,df6])\n",
    "df.to_csv('Reviews_2_Kia.csv', encoding='utf-8')"
   ]
  },
  {
   "cell_type": "code",
   "execution_count": 6,
   "metadata": {},
   "outputs": [],
   "source": [
    "#Prepare DF with MG Hector reviews\n",
    "df1 = pd.DataFrame(parse(url_mg_hector_page_1)) \n",
    "df2 = pd.DataFrame(parse(url_mg_hector_page_2))\n",
    "df3 = pd.DataFrame(parse(url_mg_hector_page_3))\n",
    "df4 = pd.DataFrame(parse(url_mg_hector_page_4))\n",
    "df5 = pd.DataFrame(parse(url_mg_hector_page_5))\n",
    "df6 = pd.DataFrame(parse(url_mg_hector_page_6))\n",
    "#df7 = pd.DataFrame(parse(url_mg_hector_page_7))\n",
    "#df8 = pd.DataFrame(parse(url_mg_hector_page_8))\n",
    "\n",
    "df = df1.append([df2,df3,df4,df5,df6])\n",
    "df.to_csv('Reviews_3_Hector.csv', encoding='utf-8')"
   ]
  },
  {
   "cell_type": "code",
   "execution_count": null,
   "metadata": {},
   "outputs": [],
   "source": []
  }
 ],
 "metadata": {
  "kernelspec": {
   "display_name": "Python 3",
   "language": "python",
   "name": "python3"
  },
  "language_info": {
   "codemirror_mode": {
    "name": "ipython",
    "version": 3
   },
   "file_extension": ".py",
   "mimetype": "text/x-python",
   "name": "python",
   "nbconvert_exporter": "python",
   "pygments_lexer": "ipython3",
   "version": "3.7.3"
  }
 },
 "nbformat": 4,
 "nbformat_minor": 2
}
